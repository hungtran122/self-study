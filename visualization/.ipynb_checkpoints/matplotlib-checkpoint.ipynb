{
 "cells": [
  {
   "cell_type": "markdown",
   "metadata": {},
   "source": [
    "LINE PLOT"
   ]
  },
  {
   "cell_type": "code",
   "execution_count": 4,
   "metadata": {},
   "outputs": [
    {
     "name": "stdout",
     "output_type": "stream",
     "text": [
      "Using matplotlib backend: Qt5Agg\n"
     ]
    }
   ],
   "source": [
    "import matplotlib.pyplot as plt\n",
    "%matplotlib notebook\n",
    "plt.style.use('ggplot')\n",
    "# plt.xkcd()\n",
    "x = [20,21,22,23,24,25,26,27,28,29,30]\n",
    "y = [100,150,250,270,290,350,480, 500,600,700,800]\n",
    "y_pred = [i*2 for i in y]\n",
    "assert len(x) == len(y)\n",
    "plt.plot(x,y, color='r', linestyle='-.', marker='x', label='medium', linewidth=1)\n",
    "plt.plot(x, y_pred, label='high')\n",
    "plt.legend()\n",
    "plt.title('Example Chart')\n",
    "plt.xlabel('Age')\n",
    "plt.ylabel('Salary')\n",
    "plt.grid(True)\n",
    "plt.tight_layout()\n",
    "# plt.show()"
   ]
  },
  {
   "cell_type": "markdown",
   "metadata": {},
   "source": [
    "BAR CHART"
   ]
  },
  {
   "cell_type": "code",
   "execution_count": null,
   "metadata": {},
   "outputs": [],
   "source": [
    "from matplotlib import pyplot as plt\n",
    "import pandas as pd\n",
    "import collections\n",
    "import numpy as np\n",
    "plt.style.use('fivethirtyeight')\n",
    "data = pd.read_csv('barchart_data.csv')\n",
    "counter = collections.Counter()\n",
    "for i in range(len(data)):\n",
    "    languages = data.iloc[i]['LanguagesWorkedWith'].split(';')\n",
    "    counter.update(languages)"
   ]
  },
  {
   "cell_type": "code",
   "execution_count": null,
   "metadata": {},
   "outputs": [],
   "source": [
    "num_lang = 15\n",
    "most_common = counter.most_common(num_lang)\n",
    "x_ticks = np.arange(num_lang//3)\n",
    "width = 0.25\n",
    "popularity = [i[1] for i in most_common]\n",
    "langs = [i[0] for i in most_common]\n",
    "plt.bar(x_ticks + width, popularity[:5], color='y', width=width, label='0to5')\n",
    "plt.bar(x_ticks, popularity[5:10], color='r', width=width, label='5to10')\n",
    "plt.bar(x_ticks - width, popularity[10:], color='b', width=width, label='10to15')\n",
    "plt.legend()\n",
    "plt.title('Most common languages')\n",
    "plt.xlabel('Popularity')\n",
    "plt.ylabel('Langs')\n",
    "plt.show()"
   ]
  },
  {
   "cell_type": "markdown",
   "metadata": {},
   "source": [
    "PIE CHART <br>\n",
    "startangle: angle of the first pie's edge <br>\n",
    "explode: take a portion apart from the pie chart <br>\n",
    "autopct: '%1.1%%' format percentage string"
   ]
  },
  {
   "cell_type": "code",
   "execution_count": null,
   "metadata": {},
   "outputs": [],
   "source": [
    "from matplotlib import pyplot as plt\n",
    "explode = [0, 0, 0.05]\n",
    "plt.pie(popularity[:3], labels=langs[:3], \n",
    "        wedgeprops={'edgecolor': 'black'}, \n",
    "        explode=explode, shadow=True, startangle=150,\n",
    "        autopct='%2.2f%%')\n",
    "plt.style.use('fivethirtyeight')\n",
    "plt.tight_layout()\n",
    "plt.show()"
   ]
  },
  {
   "cell_type": "markdown",
   "metadata": {},
   "source": [
    "STACK PLOT"
   ]
  },
  {
   "cell_type": "code",
   "execution_count": null,
   "metadata": {},
   "outputs": [],
   "source": [
    "from matplotlib import pyplot as plt\n",
    "plt.style.use('ggplot')\n",
    "minutes = range(9) \n",
    "player1 = [1,2,3,3,4,4,4,4,5]\n",
    "player2 = [1,1,1,1,2,2,2,3,4]\n",
    "player3 =  [1,1,1,2,2,2,3,3,3]\n",
    "labels = ['player1', 'player2', 'player3']\n",
    "colors = ['#6d904f', '#fc4f30', '#008fd5']\n",
    "plt.stackplot(minutes, player1, player2, player3, labels=labels, colors=colors)\n",
    "# plt.pie([1,1,1], labels=['player1', 'player2', 'player3'], autopct='%1.1f%%', explode=explode)\n",
    "plt.title('Player Contribution')\n",
    "plt.legend(loc='upper left')\n",
    "plt.tight_layout()\n",
    "plt.show()"
   ]
  },
  {
   "cell_type": "code",
   "execution_count": null,
   "metadata": {},
   "outputs": [],
   "source": [
    "from matplotlib import pyplot as plt\n",
    "plt.style.use('ggplot')\n",
    "days = range(9) \n",
    "player1 = [8, 6, 5, 5, 4, 2, 1, 1, 0]\n",
    "player2 = [0, 1, 2, 2, 2, 4, 4, 4, 4]\n",
    "player3 = [0, 1, 1, 1, 2, 2, 3, 3, 4]\n",
    "labels = ['player1', 'player2', 'player3']\n",
    "colors = ['#6d904f', '#fc4f30', '#008fd5']\n",
    "plt.stackplot(days, player1, player2, player3, labels=labels, colors=colors)\n",
    "# plt.pie([1,1,1], labels=['player1', 'player2', 'player3'], autopct='%1.1f%%', explode=explode)\n",
    "plt.title('Player Contribution')\n",
    "plt.legend(loc=(0.05, 0.02))\n",
    "plt.tight_layout()\n",
    "plt.show()"
   ]
  },
  {
   "cell_type": "markdown",
   "metadata": {},
   "source": [
    "FILLING AREAS WITH LINE PLOT "
   ]
  },
  {
   "cell_type": "code",
   "execution_count": null,
   "metadata": {},
   "outputs": [],
   "source": [
    "import pandas as pd\n",
    "from matplotlib import pyplot as plt\n",
    "data = pd.read_csv('dev_salary_by_age.csv')\n",
    "ages = data['Age']\n",
    "dev_sal = data['All_Devs']\n",
    "py_sal = data['Python']\n",
    "jav_sal = data['JavaScript']\n",
    "jav_median = np.median(jav_sal)\n",
    "dev_median = np.median(dev_sal)\n",
    "plt.plot(ages, dev_sal, label='Dev', color='r', linewidth=1, linestyle='-.')\n",
    "plt.plot(ages, py_sal, label='Python', color='b', linewidth=1, linestyle='--')\n",
    "plt.plot(ages, py_sal, label='Python', color='g', linewidth=1, linestyle='--')\n",
    "plt.fill_between(ages, py_sal, jav_median, color='y', alpha=0.2, label='JavaScript Median'\n",
    "                ,where=py_sal>jav_median, interpolate=True)\n",
    "# plt.fill_between(ages, py_sal, dev_median, color='b', alpha=0.2, label='Dev Median')\n",
    "plt.legend()\n",
    "plt.tight_layout()\n",
    "plt.title('Salary by Age')\n",
    "plt.show()\n",
    "data.head()"
   ]
  },
  {
   "cell_type": "markdown",
   "metadata": {},
   "source": [
    "HISTOGRAM"
   ]
  },
  {
   "cell_type": "code",
   "execution_count": null,
   "metadata": {},
   "outputs": [],
   "source": [
    "from matplotlib import pyplot as plt\n",
    "import pandas as pd\n",
    "import numpy as np\n",
    "plt.style.use('seaborn')\n",
    "df = pd.read_csv('histo_data.csv')\n",
    "ages = df.Age.values\n",
    "median_age = np.median(ages)\n",
    "bins = range(10, 110, 10)\n",
    "plt.hist(ages, bins=bins, edgecolor='black', log=True )\n",
    "plt.axvline(median_age, color='red', linewidth=2, label='Median Age')\n",
    "plt.legend()\n",
    "plt.title('Histogram')\n",
    "plt.xlabel('Ages')\n",
    "plt.ylabel('# of people in ages')\n",
    "plt.show()"
   ]
  },
  {
   "cell_type": "markdown",
   "metadata": {},
   "source": [
    "SCATTER PLOT"
   ]
  },
  {
   "cell_type": "code",
   "execution_count": null,
   "metadata": {},
   "outputs": [],
   "source": [
    "from matplotlib import pyplot as plt\n",
    "import pandas as pd\n",
    "import numpy as np\n",
    "plt.style.use('ggplot')\n",
    "x = [5, 7, 8, 5, 6, 7, 9, 2, 3, 4, 4, 4, 2, 6, 3, 6, 8, 6, 4, 1]\n",
    "y = [7, 4, 3, 9, 1, 3, 2, 5, 2, 4, 8, 7, 1, 6, 4, 9, 7, 7, 5, 1]\n",
    "colors = [7, 5, 9, 7, 5, 7, 2, 5, 3, 7, 1, 2, 8, 1, 9, 2, 5, 6, 7, 5]\n",
    "sizes = [209, 486, 381, 255, 191, 315, 185, 228, 174, 538, 239, 394, 399, 153, 273, 293, 436, 501, 397, 539]\n",
    "plt.scatter(x, y, s=sizes, c=colors, marker='o', edgecolor='black', linewidth=1, alpha=0.5, cmap='Pastel2')\n",
    "cbar = plt.colorbar()\n",
    "cbar.set_label('Satisfaction')\n",
    "plt.title('Youtube Video Trending')\n",
    "plt.tight_layout()\n",
    "plt.show()"
   ]
  },
  {
   "cell_type": "code",
   "execution_count": null,
   "metadata": {},
   "outputs": [],
   "source": [
    "from matplotlib import pyplot as plt\n",
    "import pandas as pd\n",
    "import numpy as np\n",
    "plt.style.use('ggplot')\n",
    "df = pd.read_csv('scatter_data.csv')\n",
    "print(df.head())\n",
    "x = df.view_count.values\n",
    "y = df.likes.values\n",
    "colors = df.ratio.values\n",
    "sizes = df.ratio.values\n",
    "plt.scatter(x, y, s=sizes, c=colors, marker='o', edgecolor='black', linewidth=1, alpha=0.5, cmap='summer')\n",
    "cbar = plt.colorbar()\n",
    "cbar.set_label('Likes/Dislike Ratio')\n",
    "plt.title('Youtube Video Trending')\n",
    "plt.xscale('log')\n",
    "plt.yscale('log')\n",
    "plt.xlabel('View Counts')\n",
    "plt.ylabel('Likes')\n",
    "plt.tight_layout()\n",
    "plt.show()"
   ]
  },
  {
   "cell_type": "markdown",
   "metadata": {},
   "source": [
    "PLOTTING TIME SERIES DATA"
   ]
  },
  {
   "cell_type": "code",
   "execution_count": null,
   "metadata": {},
   "outputs": [],
   "source": [
    "import pandas as pd\n",
    "from matplotlib import pyplot as plt\n",
    "from datetime import datetime, timedelta\n",
    "from matplotlib import dates as mpl_dates\n",
    "\n",
    "plt.style.use('seaborn')\n",
    "\n",
    "dates = [\n",
    "    datetime(2019, 5, 24),\n",
    "    datetime(2019, 5, 25),\n",
    "    datetime(2019, 5, 26),\n",
    "    datetime(2019, 5, 27),\n",
    "    datetime(2019, 5, 28),\n",
    "    datetime(2019, 5, 29),\n",
    "    datetime(2019, 5, 30)\n",
    "]\n",
    "\n",
    "y = [0, 1, 3, 4, 6, 5, 7]\n",
    "plt.plot_date(dates, y, linestyle='solid')\n",
    "plt.gcf().autofmt_xdate() # gcf get current figure\n",
    "date_format = mpl_dates.DateFormatter('%b, %d %Y')\n",
    "plt.gca().xaxis.set_major_formatter(date_format) # gca = get current axis\n",
    "plt.title('TIME SERIES DATA')\n",
    "plt.show()"
   ]
  },
  {
   "cell_type": "code",
   "execution_count": null,
   "metadata": {},
   "outputs": [],
   "source": [
    "import pandas as pd\n",
    "from matplotlib import pyplot as plt\n",
    "from datetime import datetime, timedelta\n",
    "from matplotlib import dates as mpl_dates\n",
    "plt.style.use('fivethirtyeight')\n",
    "\n",
    "df = pd.read_csv('timeseries_data.csv')\n",
    "df['Date'] = pd.to_datetime(df['Date'])\n",
    "df.sort_values('Date', inplace=True)\n",
    "dates = df.Date.values\n",
    "close = df.Close.values\n",
    "\n",
    "plt.plot_date(dates, close, linestyle='solid')\n",
    "plt.gcf().autofmt_xdate() # gcf = get current figure\n",
    "date_format = mpl_dates.DateFormatter('%b, %d %Y')\n",
    "plt.gca().xaxis.set_major_formatter(date_format) # gca = get current axis\n",
    "plt.title('BITCOIN PRICE DATA')\n",
    "plt.show()"
   ]
  },
  {
   "cell_type": "markdown",
   "metadata": {},
   "source": [
    "PLOT LIVE DATA IN REAL-TIME"
   ]
  },
  {
   "cell_type": "code",
   "execution_count": null,
   "metadata": {},
   "outputs": [],
   "source": [
    "from matplotlib import pyplot as plt\n",
    "from matplotlib.animation import FuncAnimation\n",
    "import pandas as pd\n",
    "import random\n",
    "from itertools import count\n",
    "from IPython.display import HTML\n",
    "plt.rcParams[\"figure.figsize\"] = (20,10)\n",
    "%matplotlib notebook\n",
    "plt.style.use('seaborn')\n",
    "\n",
    "index = count()\n",
    "x = []\n",
    "y = []\n",
    "y2 = []\n",
    "def animate(i):\n",
    "    x.append(next(index))\n",
    "    y.append(random.randint(0,10))\n",
    "    y2.append(random.randint(0,10)+10)\n",
    "    plt.cla() # cla = clear axis\n",
    "    plt.plot(x, y, label='y value')\n",
    "    plt.plot(x, y2, label='y2 value')\n",
    "    plt.legend(loc='upper left')\n",
    "    plt.tight_layout()\n",
    "\n",
    "ani = FuncAnimation(plt.gcf(), animate, interval=1000, frames=20)\n",
    "# HTML(ani.to_jshtml())"
   ]
  },
  {
   "cell_type": "markdown",
   "metadata": {},
   "source": [
    "SUBPLOTS\n",
    "sharex=True: share axis x tick marks over axes"
   ]
  },
  {
   "cell_type": "code",
   "execution_count": null,
   "metadata": {},
   "outputs": [],
   "source": [
    "import pandas as pd\n",
    "import numpy as np\n",
    "from matplotlib import pyplot as plt\n",
    "plt.style.use('ggplot')\n",
    "%matplotlib notebook\n",
    "plt.rcParams[\"figure.figsize\"] = (5,5)\n",
    "data = pd.read_csv('dev_salary_by_age.csv')\n",
    "ages = data['Age']\n",
    "dev_sal = data['All_Devs']\n",
    "py_sal = data['Python']\n",
    "jav_sal = data['JavaScript']\n",
    "jav_median = np.median(jav_sal)\n",
    "dev_median = np.median(dev_sal)\n",
    "\n",
    "fig, ax = plt.subplots(nrows=2, ncols=1, sharex=True)\n",
    "\n",
    "ax[1].plot(ages, dev_sal, label='Dev', color='r', linewidth=1, linestyle='-.')\n",
    "ax[1].legend()\n",
    "ax[1].set_title('Salary by Age')\n",
    "ax[1].set_xlabel('Age')\n",
    "ax[1].set_ylabel('Salary')\n",
    "\n",
    "ax[0].plot(ages, py_sal, label='Python', color='b', linewidth=1, linestyle='--')\n",
    "ax[0].plot(ages, jav_sal, label='Java', color='g', linewidth=1, linestyle='--')\n",
    "ax[0].legend()\n",
    "ax[0].set_title('Salary by Age')\n",
    "ax[0].set_xlabel('Age')\n",
    "ax[0].set_ylabel('Salary')\n",
    "plt.tight_layout()\n",
    "plt.show()\n",
    "fig.savefig('salary_by_age.jpeg')"
   ]
  },
  {
   "cell_type": "code",
   "execution_count": null,
   "metadata": {},
   "outputs": [],
   "source": []
  }
 ],
 "metadata": {
  "kernelspec": {
   "display_name": "Python 3",
   "language": "python",
   "name": "python3"
  },
  "language_info": {
   "codemirror_mode": {
    "name": "ipython",
    "version": 3
   },
   "file_extension": ".py",
   "mimetype": "text/x-python",
   "name": "python",
   "nbconvert_exporter": "python",
   "pygments_lexer": "ipython3",
   "version": "3.7.4"
  }
 },
 "nbformat": 4,
 "nbformat_minor": 2
}
